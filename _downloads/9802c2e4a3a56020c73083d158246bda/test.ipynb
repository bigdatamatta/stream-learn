{
  "cells": [
    {
      "cell_type": "code",
      "execution_count": null,
      "metadata": {
        "collapsed": false
      },
      "outputs": [],
      "source": [
        "%matplotlib inline"
      ]
    },
    {
      "cell_type": "markdown",
      "metadata": {},
      "source": [
        "\n# Example\n\nJust example.\n\n\n"
      ]
    },
    {
      "cell_type": "code",
      "execution_count": null,
      "metadata": {
        "collapsed": false
      },
      "outputs": [],
      "source": [
        "import strlearn as sl\nfrom sklearn.naive_bayes import GaussianNB\nfrom sklearn.base import clone\nimport numpy as np\n\nclf = [GaussianNB(), GaussianNB()]\n\nn_chunks = 5\na = []\nb = []\nfor i in range(1000):\n    stream = sl.streams.StreamGenerator(\n        n_chunks=n_chunks,\n        chunk_size=500,\n        weights=[0.2, 0.8],\n        n_drifts=3,\n        concept_sigmoid_spacing=999,\n    )\n    evaluator = sl.evaluators.TestThenTrainEvaluator()\n    evaluator.process(stream, [clone(c) for c in clf])\n\n    print(\"\\n# TTT\\n# %04i\" % i, np.mean(evaluator.scores_, axis=1), \"\\n\")\n\n    a.append(np.mean(evaluator.scores_, axis=1))\n\n    stream = sl.streams.StreamGenerator(\n        n_chunks=n_chunks,\n        chunk_size=500,\n        weights=[0.2, 0.8],\n        n_drifts=3,\n        concept_sigmoid_spacing=999,\n    )\n    evaluator = sl.evaluators.PrequentialEvaluator()\n    evaluator.process(stream, [clone(c) for c in clf], interval=500)\n\n    print(\"\\n# Preq\\n# %04i\" % i, np.mean(evaluator.scores_, axis=1))\n\n    b.append(np.mean(evaluator.scores_, axis=1))\n    exit()\n\na = np.array(a)\n\na = np.std(a, axis=0)\n\nprint(a)"
      ]
    }
  ],
  "metadata": {
    "kernelspec": {
      "display_name": "Python 3",
      "language": "python",
      "name": "python3"
    },
    "language_info": {
      "codemirror_mode": {
        "name": "ipython",
        "version": 3
      },
      "file_extension": ".py",
      "mimetype": "text/x-python",
      "name": "python",
      "nbconvert_exporter": "python",
      "pygments_lexer": "ipython3",
      "version": "3.6.6"
    }
  },
  "nbformat": 4,
  "nbformat_minor": 0
}