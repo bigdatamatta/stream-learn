{
  "cells": [
    {
      "cell_type": "code",
      "execution_count": null,
      "metadata": {
        "collapsed": false
      },
      "outputs": [],
      "source": [
        "%matplotlib inline"
      ]
    },
    {
      "cell_type": "markdown",
      "metadata": {},
      "source": [
        "\n# Basic example of stationary synthetic stream processing\n\n\nLorem impsum.\n\n\n"
      ]
    },
    {
      "cell_type": "code",
      "execution_count": null,
      "metadata": {
        "collapsed": false
      },
      "outputs": [],
      "source": [
        "import strlearn as sl\nfrom sklearn.neural_network import MLPClassifier\nfrom sklearn.naive_bayes import GaussianNB\n\n# Initialize list of scikit-learn classifiers with partial_fit() function\nclfs = [MLPClassifier(), GaussianNB()]\n\n# Declare data stream\nstream = sl.streams.StreamGenerator(n_chunks=30, n_drifts=1)\n\n# Select vector of metrics\nmetrics = [sl.utils.metrics.bac, sl.utils.metrics.f_score]\n\n# Initialize evaluator with given metrics\nevaluator = sl.evaluators.TestThenTrain(metrics)"
      ]
    },
    {
      "cell_type": "markdown",
      "metadata": {},
      "source": [
        "Processing\n#############################################################################\n\n"
      ]
    },
    {
      "cell_type": "markdown",
      "metadata": {},
      "source": [
        "Olaboga, jakie wa\u017cne bardzo.\n\n"
      ]
    },
    {
      "cell_type": "code",
      "execution_count": null,
      "metadata": {
        "collapsed": false
      },
      "outputs": [],
      "source": [
        "# Run evaluator over stream with classifier\nevaluator.process(stream, clfs)\n\nevaluator.scores"
      ]
    },
    {
      "cell_type": "markdown",
      "metadata": {},
      "source": [
        "Plotting\n#############################################################################\n\n"
      ]
    },
    {
      "cell_type": "code",
      "execution_count": null,
      "metadata": {
        "collapsed": false
      },
      "outputs": [],
      "source": [
        "import matplotlib.pyplot as plt\n\nfig, ax = plt.subplots(1, len(metrics), figsize=(12, 4))\nlabels = [\"MLP\", \"GNB\"]\nfor m, metric in enumerate(metrics):\n    ax[m].set_title(metric.__name__)\n    ax[m].set_ylim(0, 1)\n    for i, clf in enumerate(clfs):\n        ax[m].plot(evaluator.scores[m, :, i], label=labels[i])\n    ax[m].legend()"
      ]
    }
  ],
  "metadata": {
    "kernelspec": {
      "display_name": "Python 3",
      "language": "python",
      "name": "python3"
    },
    "language_info": {
      "codemirror_mode": {
        "name": "ipython",
        "version": 3
      },
      "file_extension": ".py",
      "mimetype": "text/x-python",
      "name": "python",
      "nbconvert_exporter": "python",
      "pygments_lexer": "ipython3",
      "version": "3.6.6"
    }
  },
  "nbformat": 4,
  "nbformat_minor": 0
}