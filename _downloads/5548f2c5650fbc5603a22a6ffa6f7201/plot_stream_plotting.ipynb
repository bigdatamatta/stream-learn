{
  "cells": [
    {
      "cell_type": "code",
      "execution_count": null,
      "metadata": {
        "collapsed": false
      },
      "outputs": [],
      "source": [
        "%matplotlib inline"
      ]
    },
    {
      "cell_type": "markdown",
      "metadata": {},
      "source": [
        "\n# Plotting example data streams\n\n\nId sunt magna sint doctrina quo de enim ullamco, quorum proident adipisicing,\nnam summis quid magna probant. O incurreret transferrem, ne anim elit do\nnescius. De velit mandaremus, do ubi minim ingeniis.Amet singulis ita sunt dolor\nut quis reprehenderit incurreret veniam cupidatat. Culpa aut id amet proident\nquo te te fugiat dolor quis, commodo sed ingeniis non tamen est laborum o quae.\nProbant dolore occaecat senserit ea fugiat de senserit ne nulla. Laboris eram\npariatur ullamco, an export excepteur fidelissimae.\n\n\n"
      ]
    },
    {
      "cell_type": "code",
      "execution_count": null,
      "metadata": {
        "collapsed": false
      },
      "outputs": [],
      "source": [
        "import strlearn as sl\nimport matplotlib.pyplot as plt\nimport numpy as np\n\nn_chunks = 100\nchunks_plotted = np.linspace(0, n_chunks - 1, 8).astype(int)\n\n\ndef plot_stream(stream, filename=\"foo\", title=\"\"):\n    fig, ax = plt.subplots(1, len(chunks_plotted), figsize=(14, 2.5))\n\n    j = 0\n    for i in range(n_chunks):\n        X, y = stream.get_chunk()\n        if i in chunks_plotted:\n            ax[j].set_title(\"Chunk %i\" % i)\n            ax[j].scatter(X[:, 0], X[:, 1], c=y, cmap=\"bwr\", s=10, alpha=0.5)\n            ax[j].set_ylim(-4, 4)\n            ax[j].set_xlim(-4, 4)\n            ax[j].set(aspect=\"equal\")\n            j += 1\n\n    fig.suptitle(title, fontsize=16)\n    plt.tight_layout()\n    plt.savefig(\"%s.png\" % filename, transparent=True)"
      ]
    },
    {
      "cell_type": "markdown",
      "metadata": {},
      "source": [
        "Processing\n#############################################################################\n\n"
      ]
    },
    {
      "cell_type": "code",
      "execution_count": null,
      "metadata": {
        "collapsed": false
      },
      "outputs": [],
      "source": [
        "concept_kwargs = {\n    \"n_chunks\": n_chunks,\n    \"chunk_size\": 500,\n    \"n_classes\": 2,\n    \"random_state\": 106,\n    \"n_features\": 2,\n    \"n_informative\": 2,\n    \"n_redundant\": 0,\n    \"n_repeated\": 0,\n}"
      ]
    },
    {
      "cell_type": "markdown",
      "metadata": {},
      "source": [
        "Stationary stream\n\ninne\n\n"
      ]
    },
    {
      "cell_type": "code",
      "execution_count": null,
      "metadata": {
        "collapsed": false
      },
      "outputs": [],
      "source": [
        "stream = sl.streams.StreamGenerator(**concept_kwargs)\n\nplot_stream(stream, \"stationary\", \"Stationary stream\")"
      ]
    },
    {
      "cell_type": "markdown",
      "metadata": {},
      "source": [
        "Sudden drift\n\ninne\n\n"
      ]
    },
    {
      "cell_type": "code",
      "execution_count": null,
      "metadata": {
        "collapsed": false
      },
      "outputs": [],
      "source": [
        "stream = sl.streams.StreamGenerator(**concept_kwargs, n_drifts=1)\n\nplot_stream(stream, \"sudden\", \"Stream with sudden drift\")"
      ]
    },
    {
      "cell_type": "markdown",
      "metadata": {},
      "source": [
        "Gradual drift\n\ninne\n\n"
      ]
    },
    {
      "cell_type": "code",
      "execution_count": null,
      "metadata": {
        "collapsed": false
      },
      "outputs": [],
      "source": [
        "stream = sl.streams.StreamGenerator(\n    **concept_kwargs, n_drifts=1, concept_sigmoid_spacing=5\n)\n\nplot_stream(stream, \"gradual\", \"Stream with gradual drift\")"
      ]
    },
    {
      "cell_type": "markdown",
      "metadata": {},
      "source": [
        "Incremental drift\n\ninne\n\n"
      ]
    },
    {
      "cell_type": "code",
      "execution_count": null,
      "metadata": {
        "collapsed": false
      },
      "outputs": [],
      "source": [
        "stream = sl.streams.StreamGenerator(\n    **concept_kwargs, n_drifts=1, concept_sigmoid_spacing=5, incremental=True\n)\n\nplot_stream(stream, \"incremental\", \"Stream with incremental drift\")"
      ]
    },
    {
      "cell_type": "markdown",
      "metadata": {},
      "source": [
        "Recurrent\n\ninne\n\n"
      ]
    },
    {
      "cell_type": "code",
      "execution_count": null,
      "metadata": {
        "collapsed": false
      },
      "outputs": [],
      "source": [
        "stream = sl.streams.StreamGenerator(**concept_kwargs, n_drifts=2, recurring=True)\n\nplot_stream(stream, \"recurring\", \"Data stream with recurring drift\")"
      ]
    },
    {
      "cell_type": "markdown",
      "metadata": {},
      "source": [
        "Non-recurrent\n\ninne\n\n"
      ]
    },
    {
      "cell_type": "code",
      "execution_count": null,
      "metadata": {
        "collapsed": false
      },
      "outputs": [],
      "source": [
        "stream = sl.streams.StreamGenerator(**concept_kwargs, n_drifts=2, recurring=False)\n\nplot_stream(stream, \"nonrecurring\", \"Data stream with non-recurring drift\")"
      ]
    },
    {
      "cell_type": "markdown",
      "metadata": {},
      "source": [
        "Static-imbalanced\n\ninne\n\n"
      ]
    },
    {
      "cell_type": "code",
      "execution_count": null,
      "metadata": {
        "collapsed": false
      },
      "outputs": [],
      "source": [
        "stream = sl.streams.StreamGenerator(**concept_kwargs, weights=[0.3, 0.7])\n\nplot_stream(stream, \"static-imbalanced\", \"Data stream with statically imbalanced drift\")"
      ]
    },
    {
      "cell_type": "markdown",
      "metadata": {},
      "source": [
        "Dynamic-imbalanced\n\ninne\n\n"
      ]
    },
    {
      "cell_type": "code",
      "execution_count": null,
      "metadata": {
        "collapsed": false
      },
      "outputs": [],
      "source": [
        "stream = sl.streams.StreamGenerator(**concept_kwargs, weights=(2, 5, 0.9))\n\nplot_stream(\n    stream, \"dynamic-imbalanced\", \"Data stream with dynamically imbalanced drift\"\n)"
      ]
    },
    {
      "cell_type": "markdown",
      "metadata": {},
      "source": [
        "DISCO\n\ninne\n\n"
      ]
    },
    {
      "cell_type": "code",
      "execution_count": null,
      "metadata": {
        "collapsed": false
      },
      "outputs": [],
      "source": [
        "stream = sl.streams.StreamGenerator(\n    **concept_kwargs,\n    weights=(2, 5, 0.9),\n    n_drifts=3,\n    concept_sigmoid_spacing=5,\n    recurring=True,\n    incremental=True\n)\n\nplot_stream(\n    stream, \"disco\", \"Dynamically Imbalanced Stream with Concept Oscillation (DISCO)\"\n)"
      ]
    }
  ],
  "metadata": {
    "kernelspec": {
      "display_name": "Python 3",
      "language": "python",
      "name": "python3"
    },
    "language_info": {
      "codemirror_mode": {
        "name": "ipython",
        "version": 3
      },
      "file_extension": ".py",
      "mimetype": "text/x-python",
      "name": "python",
      "nbconvert_exporter": "python",
      "pygments_lexer": "ipython3",
      "version": "3.6.6"
    }
  },
  "nbformat": 4,
  "nbformat_minor": 0
}