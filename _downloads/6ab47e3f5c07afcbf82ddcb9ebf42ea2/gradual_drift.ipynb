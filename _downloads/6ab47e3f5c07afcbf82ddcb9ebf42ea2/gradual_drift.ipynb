{
  "cells": [
    {
      "cell_type": "code",
      "execution_count": null,
      "metadata": {
        "collapsed": false
      },
      "outputs": [],
      "source": [
        "%matplotlib inline"
      ]
    },
    {
      "cell_type": "markdown",
      "metadata": {},
      "source": [
        "\n# Incremental drift\n\nThis example shows a basic stream processing using WAE algorithm.\n\n\n"
      ]
    },
    {
      "cell_type": "code",
      "execution_count": null,
      "metadata": {
        "collapsed": false
      },
      "outputs": [],
      "source": [
        "# Authors: Pawe\u0142 Ksieniewicz <pawel.ksieniewicz@pwr.edu.pl>\n# License: MIT\n\nfrom strlearn.generators import DriftedStream\nimport matplotlib.pyplot as plt\nfrom matplotlib.gridspec import GridSpec\nimport numpy as np\n\n\nstream = DriftedStream(\n    n_chunks=100,\n    chunk_size=100,\n    random_state=105,\n    n_features=2,\n    n_classes=2,\n    n_drifts=2,\n    n_informative=2,\n    n_redundant=0,\n    n_repeated=0,\n    sigmoid_spacing=5,\n    n_clusters_per_class=1,\n)\n\ncheckpoints = np.linspace(0, stream.n_chunks - 1, 8).astype(int)\n\nfig = plt.figure(constrained_layout=True, figsize=(8, 4))\n\ngs = GridSpec(3, len(checkpoints), figure=fig)\n\n# Scatter plots\na, b = [], []\nfor i in range(100):\n    X, y = stream.get_chunk()\n\n    start, end = (stream.chunk_size * i, stream.chunk_size * i + stream.chunk_size)\n    cs = stream.concept_selector[start:end]\n    a.append(np.sum(cs == 0))\n    b.append(np.sum(cs == 1))\n\n    if i in checkpoints:\n        index = np.where(checkpoints == i)[0][0]\n        ax = fig.add_subplot(gs[2, index])\n        ax.scatter(X[:, 0], X[:, 1], c=y, s=10, alpha=0.5, cmap=\"bwr\")\n        ax.set_xlim(-5, 5)\n        ax.set_ylim(-5, 5)\n        ax.set_xticks([])\n        ax.set_yticks([])\n\n# Concept presence\nax = fig.add_subplot(gs[1, :])\nax.set_title(\"Concept presence\")\nax.plot(a, c=\"black\", ls=\":\")\nax.plot(b, c=\"black\", ls=\"--\")\nax.set_ylim(-10, stream.chunk_size + 10)\nax.set_xticks(checkpoints)\n\n# Periodical sigmoid\nax = fig.add_subplot(gs[0, :])\nax.set_title(\"Periodical sigmoid (ss=%.1f)\" % stream.sigmoid_spacing)\nax.plot(stream.period_sigmoid, lw=1, c=\"black\")\n\n\nplt.savefig(\"gradual_drift.png\")"
      ]
    }
  ],
  "metadata": {
    "kernelspec": {
      "display_name": "Python 3",
      "language": "python",
      "name": "python3"
    },
    "language_info": {
      "codemirror_mode": {
        "name": "ipython",
        "version": 3
      },
      "file_extension": ".py",
      "mimetype": "text/x-python",
      "name": "python",
      "nbconvert_exporter": "python",
      "pygments_lexer": "ipython3",
      "version": "3.6.6"
    }
  },
  "nbformat": 4,
  "nbformat_minor": 0
}