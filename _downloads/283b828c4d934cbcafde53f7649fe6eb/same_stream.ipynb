{
  "cells": [
    {
      "cell_type": "code",
      "execution_count": null,
      "metadata": {
        "collapsed": false
      },
      "outputs": [],
      "source": [
        "%matplotlib inline"
      ]
    },
    {
      "cell_type": "markdown",
      "metadata": {},
      "source": [
        "\n# Incremental drift\n\nThis example shows a basic stream processing using WAE algorithm.\n\n\n"
      ]
    },
    {
      "cell_type": "code",
      "execution_count": null,
      "metadata": {
        "collapsed": false
      },
      "outputs": [],
      "source": [
        "# Authors: Pawe\u0142 Ksieniewicz <pawel.ksieniewicz@pwr.edu.pl>\n# License: MIT\n\n\nimport numpy as np\nfrom strlearn.streams import StreamGenerator\nimport matplotlib.pyplot as plt\nfrom matplotlib.gridspec import GridSpec\n\n\nmcargs = {\n    \"n_classes\": 2,\n    \"n_chunks\": 100,\n    \"chunk_size\": 500,\n    \"random_state\": 5,\n    \"n_features\": 2,\n    \"n_informative\": 2,\n    \"n_redundant\": 0,\n    \"n_repeated\": 0,\n    \"n_features\": 2,\n    \"n_clusters_per_class\": 1,\n}\n\nstreams = {\n    \"9_first\": StreamGenerator(\n        n_drifts=3,\n        concept_sigmoid_spacing=5,\n        reocurring=True,\n        incremental=True,\n        weights=(2, 5, 0.9),\n        **mcargs\n    ),\n    \"9_second\": StreamGenerator(n_drifts=1, concept_sigmoid_spacing=5, **mcargs),\n}\n\nfor stream_name in streams:\n    print(stream_name)\n    stream = streams[stream_name]\n\n    checkpoints = np.linspace(0, stream.n_chunks - 1, 8).astype(int)\n\n    fig = plt.figure(constrained_layout=True, figsize=(8, 6))\n\n    gs = GridSpec(5, len(checkpoints), figure=fig)\n\n    # Scatter plots\n    a, b, c = [], [], []\n    A, B, C = [], [], []\n    for i in range(100):\n        X, y = stream.get_chunk()\n\n        start, end = (stream.chunk_size * i, stream.chunk_size * i + stream.chunk_size)\n\n        if hasattr(stream, \"concept_selector\"):\n            cs = stream.concept_selector[start:end]\n            a.append(np.sum(cs == 0))\n            b.append(np.sum(cs == 1))\n            c.append(np.sum(cs == 2))\n        else:\n            a.append(stream.chunk_size)\n\n        if hasattr(stream, \"class_selector\"):\n            cs = stream.class_selector[start:end]\n            A.append(np.sum(cs == 0))\n            B.append(np.sum(cs == 1))\n            C.append(np.sum(cs == 2))\n\n        if i in checkpoints:\n            index = np.where(checkpoints == i)[0][0]\n            ax = fig.add_subplot(gs[2, index])\n            ax.scatter(X[:, 0], X[:, 1], c=y, s=10, alpha=0.5, cmap=\"brg\")\n            ax.set_xlim(-5, 5)\n            ax.set_ylim(-5, 5)\n            ax.set_xticks([])\n            ax.set_yticks([])\n            ax.axis(\"off\")\n            ax.grid(color=\"r\", linestyle=\"-\", linewidth=2)\n\n    # Concept presence\n    ax = fig.add_subplot(gs[1, :])\n    ax.set_title(\"Incremental drift\", fontsize=8)\n    if not stream.incremental:\n        ax.set_title(\"Concept presence\", fontsize=8)\n        ax.plot(a, c=\"red\", ls=\":\", label=\"A\")\n    if stream.n_drifts > 0 and not stream.incremental:\n        ax.plot(b, c=\"green\", ls=\":\", label=\"B\")\n    if stream.n_drifts > 1 and not stream.reocurring and not stream.incremental:\n        ax.plot(c, c=\"blue\", ls=\":\", label=\"C\")\n    ax.legend(frameon=False, loc=5)\n    ax.set_ylim(-10, stream.chunk_size + 10)\n    ax.set_xlim(0, stream.n_chunks - 1)\n    ax.set_xticks(checkpoints)\n    ax.set_yticks([0, 250, 500])\n    ax.grid(color=\"k\", linestyle=\":\", linewidth=0.1)\n    ax.spines[\"top\"].set_visible(False)\n    ax.spines[\"right\"].set_visible(False)\n\n    # Class presence\n    ax = fig.add_subplot(gs[3, :])\n    ax.set_title(\"Class presence\", fontsize=8)\n    ax.plot(A, c=\"red\", ls=\"-\", label=\"0\")\n    ax.plot(B, c=\"green\", ls=\"-\", label=\"1\")\n    if stream.n_classes > 2:\n        ax.plot(C, c=\"blue\", ls=\"-\", label=\"2\")\n    ax.legend(frameon=False, loc=5)\n    ax.set_ylim(-10, stream.chunk_size + 10)\n    ax.set_xlim(0, stream.n_chunks - 1)\n    ax.set_xticks(checkpoints)\n    ax.set_yticks([0, 250, 500])\n    ax.grid(color=\"k\", linestyle=\":\", linewidth=0.1)\n    ax.spines[\"top\"].set_visible(False)\n    ax.spines[\"right\"].set_visible(False)\n\n    # Concept Periodical sigmoid\n    ax = fig.add_subplot(gs[0, :])\n    if hasattr(stream, \"concept_probabilities\"):\n        if stream.concept_sigmoid_spacing is not None:\n            ax.set_title(\n                \"Concept probabilities (ss=%.1f, n_drifts=%i)\"\n                % (stream.concept_sigmoid_spacing, stream.n_drifts),\n                fontsize=8,\n            )\n        else:\n            ax.set_title(\n                \"Concept probabilities (n_drifts=%i)\" % (stream.n_drifts), fontsize=8\n            )\n        ax.plot(stream.concept_probabilities, lw=1, c=\"black\")\n    else:\n        ax.set_title(\"No concept probabilities\", fontsize=8)\n    ax.set_ylim(-0.05, 1.05)\n    ax.set_xlim(0, mcargs[\"n_chunks\"] * mcargs[\"chunk_size\"])\n    ax.grid(color=\"k\", linestyle=\":\", linewidth=0.1)\n    ax.spines[\"top\"].set_visible(False)\n    ax.spines[\"right\"].set_visible(False)\n\n    # Class Periodical sigmoid\n    ax = fig.add_subplot(gs[4, :])\n    if hasattr(stream, \"class_probabilities\"):\n        ax.set_title(\n            \"Class probabilities (ss=%.1f, n_drifts=%i, ba=%.1f)\"\n            % (\n                stream.class_sigmoid_spacing,\n                stream.n_balance_drifts,\n                stream.balance_amplitude,\n            ),\n            fontsize=8,\n        )\n        ax.plot(stream.class_probabilities, lw=1, c=\"black\")\n    else:\n        ax.set_title(\"No class probabilities\", fontsize=8)\n        ax.set_xlim(0, mcargs[\"n_chunks\"] * mcargs[\"chunk_size\"])\n    ax.set_ylim(-0.05, 1.05)\n    ax.set_xlim(0, mcargs[\"n_chunks\"] * mcargs[\"chunk_size\"])\n    ax.grid(color=\"k\", linestyle=\":\", linewidth=0.1)\n    ax.spines[\"top\"].set_visible(False)\n    ax.spines[\"right\"].set_visible(False)\n\n    plt.savefig(\"../plots/%s.png\" % stream_name)"
      ]
    }
  ],
  "metadata": {
    "kernelspec": {
      "display_name": "Python 3",
      "language": "python",
      "name": "python3"
    },
    "language_info": {
      "codemirror_mode": {
        "name": "ipython",
        "version": 3
      },
      "file_extension": ".py",
      "mimetype": "text/x-python",
      "name": "python",
      "nbconvert_exporter": "python",
      "pygments_lexer": "ipython3",
      "version": "3.6.6"
    }
  },
  "nbformat": 4,
  "nbformat_minor": 0
}