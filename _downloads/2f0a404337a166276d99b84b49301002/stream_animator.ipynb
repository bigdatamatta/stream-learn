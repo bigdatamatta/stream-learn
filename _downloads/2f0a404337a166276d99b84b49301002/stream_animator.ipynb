{
  "cells": [
    {
      "cell_type": "code",
      "execution_count": null,
      "metadata": {
        "collapsed": false
      },
      "outputs": [],
      "source": [
        "%matplotlib inline"
      ]
    },
    {
      "cell_type": "markdown",
      "metadata": {},
      "source": [
        "\n# Incremental drift\n\nThis example shows a basic stream processing using WAE algorithm.\n\n\n"
      ]
    },
    {
      "cell_type": "code",
      "execution_count": null,
      "metadata": {
        "collapsed": false
      },
      "outputs": [],
      "source": [
        "# Authors: Pawe\u0142 Ksieniewicz <pawel.ksieniewicz@pwr.edu.pl>\n# License: MIT\n\n\nimport numpy as np\nfrom strlearn.streams import StreamGenerator\nimport matplotlib.pyplot as plt\nfrom matplotlib.gridspec import GridSpec\nfrom tqdm import tqdm\n\nmcargs = {\n    \"n_classes\": 3,\n    \"n_chunks\": 100,\n    \"chunk_size\": 500,\n    \"random_state\": 105,\n    \"n_features\": 2,\n    \"n_informative\": 2,\n    \"n_redundant\": 0,\n    \"n_repeated\": 0,\n    \"n_features\": 2,\n    \"n_clusters_per_class\": 1,\n}\n\nstreams = {\n    \"0_stationary\": StreamGenerator(**mcargs),\n    \"1_sudden\": StreamGenerator(n_drifts=1, **mcargs),\n    \"2_gradual\": StreamGenerator(n_drifts=1, concept_sigmoid_spacing=5, **mcargs),\n    \"3_incremental\": StreamGenerator(\n        n_drifts=1, concept_sigmoid_spacing=5, incremental=True, **mcargs\n    ),\n    \"4_reocurring\": StreamGenerator(\n        n_drifts=2, concept_sigmoid_spacing=5, reocurring=True, **mcargs\n    ),\n    \"5_nonreocurring\": StreamGenerator(\n        n_drifts=2, concept_sigmoid_spacing=5, reocurring=False, **mcargs\n    ),\n}\nstreams={}\nmcargs.update({\"n_classes\": 2, \"random_state\": 5})\nstreams.update(\n    {\n        \"6_balanced\": StreamGenerator(**mcargs),\n        \"7_static_imbalanced\": StreamGenerator(**mcargs, weights=[0.3, 0.7]),\n        \"8_dynamic_imbalanced\": StreamGenerator(**mcargs, weights=(2, 5, 0.9)),\n        \"9_disco\": StreamGenerator(\n            **mcargs,\n            weights=(8, 5, 0.9),\n            n_drifts=4,\n            concept_sigmoid_spacing=5,\n            reocurring=True,\n            incremental=True\n        ),\n    }\n)\n\nfor stream_name in tqdm(streams):\n    print(stream_name)\n    stream = streams[stream_name]\n\n    checkpoints = np.array(list(range(mcargs[\"n_chunks\"])))\n\n    # Scatter plots\n    for i in tqdm(range(mcargs[\"n_chunks\"])):\n        X, y = stream.get_chunk()\n        if i in checkpoints:\n            index = np.where(checkpoints == i)[0][0]\n\n            plt.figure(figsize=(2,2))\n            plt.title(\"chunk %i\" % i, fontsize=8)\n            #ax = fig.add_subplot(gs[2, index])\n            plt.scatter(X[:, 0], X[:, 1], c=y, s=10, alpha=0.5, cmap=\"brg\")\n            plt.xlim(-5, 5)\n            plt.ylim(-5, 5)\n            #ax.set_xticks([])\n            #ax.set_yticks([])\n            plt.axis(\"off\")\n            plt.grid(color=\"r\", linestyle=\"-\", linewidth=2)\n            plt.tight_layout()\n\n            plt.savefig(\"plots/keyframes/%s-%03i.png\" % (stream_name, i))\n            plt.close()"
      ]
    }
  ],
  "metadata": {
    "kernelspec": {
      "display_name": "Python 3",
      "language": "python",
      "name": "python3"
    },
    "language_info": {
      "codemirror_mode": {
        "name": "ipython",
        "version": 3
      },
      "file_extension": ".py",
      "mimetype": "text/x-python",
      "name": "python",
      "nbconvert_exporter": "python",
      "pygments_lexer": "ipython3",
      "version": "3.6.6"
    }
  },
  "nbformat": 4,
  "nbformat_minor": 0
}