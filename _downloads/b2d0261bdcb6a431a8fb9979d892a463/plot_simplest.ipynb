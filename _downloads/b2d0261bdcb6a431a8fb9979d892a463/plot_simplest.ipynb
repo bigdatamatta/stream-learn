{
  "cells": [
    {
      "cell_type": "code",
      "execution_count": null,
      "metadata": {
        "collapsed": false
      },
      "outputs": [],
      "source": [
        "%matplotlib inline"
      ]
    },
    {
      "cell_type": "markdown",
      "metadata": {},
      "source": [
        "\n# The simplest experiment example with one classifier and two metrics\n\n\nLorem impsum.\n\n\n"
      ]
    },
    {
      "cell_type": "code",
      "execution_count": null,
      "metadata": {
        "collapsed": false
      },
      "outputs": [],
      "source": [
        "from sklearn.naive_bayes import GaussianNB\n\nclf = GaussianNB()\n\nfrom strlearn.streams import StreamGenerator\n\nstream = StreamGenerator(n_chunks=30, n_drifts=1)\n\n\nfrom sklearn.metrics import accuracy_score\nfrom strlearn.metrics import recall\n\nmetrics = [accuracy_score, recall]\n\n\nfrom strlearn.evaluators import TestThenTrain\n\nevaluator = TestThenTrain(metrics)\n\n\nevaluator.process(stream, clf)\n\nprint(evaluator.scores.shape)\nevaluator.scores"
      ]
    },
    {
      "cell_type": "markdown",
      "metadata": {},
      "source": [
        "Processing\n#############################################################################\n\n"
      ]
    },
    {
      "cell_type": "markdown",
      "metadata": {},
      "source": [
        "Olaboga, jakie wa\u017cne bardzo.\n\n"
      ]
    },
    {
      "cell_type": "code",
      "execution_count": null,
      "metadata": {
        "collapsed": false
      },
      "outputs": [],
      "source": [
        "import matplotlib.pyplot as plt\n\nplt.figure(figsize=(6, 3), dpi=400)\n\nfor m, metric in enumerate(metrics):\n    plt.plot(evaluator.scores[0, :, m], label=metric.__name__)\n\nplt.title(\"Basic example of stream processing\")\nplt.ylim(0, 1)\nplt.ylabel(\"Quality\")\nplt.xlabel(\"Chunk\")\n\nplt.legend()\nplt.tight_layout()\nplt.savefig(\"simplest.png\", transparent=True)"
      ]
    }
  ],
  "metadata": {
    "kernelspec": {
      "display_name": "Python 3",
      "language": "python",
      "name": "python3"
    },
    "language_info": {
      "codemirror_mode": {
        "name": "ipython",
        "version": 3
      },
      "file_extension": ".py",
      "mimetype": "text/x-python",
      "name": "python",
      "nbconvert_exporter": "python",
      "pygments_lexer": "ipython3",
      "version": "3.6.6"
    }
  },
  "nbformat": 4,
  "nbformat_minor": 0
}